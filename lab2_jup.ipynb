{
 "cells": [
  {
   "cell_type": "code",
   "execution_count": 3,
   "metadata": {},
   "outputs": [
    {
     "name": "stdout",
     "output_type": "stream",
     "text": [
      "your values are: a =  -2.0 , b =  0.25\n",
      "The result of colculation: y =  0.35847883455082247\n"
     ]
    }
   ],
   "source": [
    "import math\n",
    "a = float(input(\"Enter a value for a: \"))\n",
    "b = float(input(\"Enter a value for b: \"))\n",
    "r = math.exp(a)\n",
    "t = math.log(abs(b + 1))\n",
    "print(\"your values are: a = \", a, \", b = \", b)\n",
    "if (t >= 0):\n",
    "    y = r + t\n",
    "    print(\"The result of colculation: y = \", y)\n",
    "else:\n",
    "    print(\"The absolute number is smaller than 0\")"
   ]
  }
 ],
 "metadata": {
  "kernelspec": {
   "display_name": "base",
   "language": "python",
   "name": "python3"
  },
  "language_info": {
   "codemirror_mode": {
    "name": "ipython",
    "version": 3
   },
   "file_extension": ".py",
   "mimetype": "text/x-python",
   "name": "python",
   "nbconvert_exporter": "python",
   "pygments_lexer": "ipython3",
   "version": "3.12.4"
  }
 },
 "nbformat": 4,
 "nbformat_minor": 2
}
